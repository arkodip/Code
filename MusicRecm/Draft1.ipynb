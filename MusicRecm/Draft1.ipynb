{
 "cells": [
  {
   "cell_type": "code",
   "execution_count": 1,
   "metadata": {},
   "outputs": [
    {
     "ename": "ModuleNotFoundError",
     "evalue": "No module named 'theano'",
     "output_type": "error",
     "traceback": [
      "\u001b[0;31m---------------------------------------------------------------------------\u001b[0m",
      "\u001b[0;31mModuleNotFoundError\u001b[0m                       Traceback (most recent call last)",
      "\u001b[0;32m<ipython-input-1-0a36410b8cea>\u001b[0m in \u001b[0;36m<module>\u001b[0;34m\u001b[0m\n\u001b[1;32m     11\u001b[0m \u001b[0;32mfrom\u001b[0m \u001b[0msklearn\u001b[0m\u001b[0;34m.\u001b[0m\u001b[0mmetrics\u001b[0m \u001b[0;32mimport\u001b[0m \u001b[0mmean_squared_error\u001b[0m\u001b[0;34m\u001b[0m\u001b[0;34m\u001b[0m\u001b[0m\n\u001b[1;32m     12\u001b[0m \u001b[0;32mfrom\u001b[0m \u001b[0mscipy\u001b[0m\u001b[0;34m.\u001b[0m\u001b[0mstats\u001b[0m \u001b[0;32mimport\u001b[0m \u001b[0mspearmanr\u001b[0m\u001b[0;34m\u001b[0m\u001b[0;34m\u001b[0m\u001b[0m\n\u001b[0;32m---> 13\u001b[0;31m \u001b[0;32mimport\u001b[0m \u001b[0mtheano\u001b[0m\u001b[0;34m\u001b[0m\u001b[0;34m\u001b[0m\u001b[0m\n\u001b[0m\u001b[1;32m     14\u001b[0m \u001b[0;32mfrom\u001b[0m \u001b[0mmultiprocessing\u001b[0m \u001b[0;32mimport\u001b[0m \u001b[0mPool\u001b[0m\u001b[0;34m,\u001b[0m \u001b[0mcpu_count\u001b[0m\u001b[0;34m\u001b[0m\u001b[0;34m\u001b[0m\u001b[0m\n",
      "\u001b[0;31mModuleNotFoundError\u001b[0m: No module named 'theano'"
     ]
    }
   ],
   "source": [
    "#Imports\n",
    "\n",
    "import pandas as pd\n",
    "import numpy as np\n",
    "import plotly.offline as plt\n",
    "import plotly.graph_objs as go\n",
    "import os\n",
    "import random\n",
    "import math\n",
    "from tqdm import tqdm\n",
    "from sklearn.metrics import mean_squared_error\n",
    "from scipy.stats import spearmanr\n",
    "import theano\n",
    "from multiprocessing import Pool, cpu_count"
   ]
  },
  {
   "cell_type": "code",
   "execution_count": 2,
   "metadata": {},
   "outputs": [],
   "source": [
    "#Data Location\n",
    "\n",
    "DATA_DIR = \"./data/\"\n",
    "SONGS_FILE = \"songs.csv\""
   ]
  },
  {
   "cell_type": "code",
   "execution_count": 3,
   "metadata": {},
   "outputs": [],
   "source": [
    "#Data Features\n",
    "\n",
    "NFEATURE = 21 #Number of Features\n",
    "S = 50 #Hyper Parameter\n",
    "totReco = 0 #Number of total recommendation till now\n",
    "startConstant = 5 #for low penalty in starting phase"
   ]
  },
  {
   "cell_type": "code",
   "execution_count": 5,
   "metadata": {},
   "outputs": [],
   "source": [
    "#Read Data\n",
    "\n",
    "Songs = pd.read_csv(DATA_DIR + SONGS_FILE, index_col=0)"
   ]
  },
  {
   "cell_type": "code",
   "execution_count": 7,
   "metadata": {},
   "outputs": [],
   "source": [
    "def compute_utility(user_features, song_features, epoch, s=S):\n",
    "    \n",
    "    \"\"\" Compute utility U based on user preferences and song preferences \"\"\"\n",
    "    \n",
    "    user_features = user_features.copy()\n",
    "    song_features = song_features.copy()\n",
    "    \n",
    "    dot = user_features.dot(song_features)\n",
    "    ee = (1.0 - 1.0*math.exp(-1.0*epoch/s))\n",
    "    \n",
    "    res = dot * ee\n",
    "    \n",
    "    return res"
   ]
  },
  {
   "cell_type": "code",
   "execution_count": 8,
   "metadata": {},
   "outputs": [],
   "source": [
    "def get_song_features(song):\n",
    "    \n",
    "    \"\"\" Feature of particular song \"\"\"\n",
    "    \n",
    "    if isinstance(song, pd.Series):\n",
    "        return song[-NFEATURE:]\n",
    "    \n",
    "    elif isinstance(song, pd.DataFrame):\n",
    "        return get_song_features(pd.Series(song.loc[song.index[0]]))\n",
    "    \n",
    "    else:\n",
    "        raise TypeError(\"{} should be a Series or DataFrame\".format(song))"
   ]
  },
  {
   "cell_type": "code",
   "execution_count": 9,
   "metadata": {},
   "outputs": [],
   "source": [
    "def best_recommendation(user_features, epoch, s):\n",
    "    \n",
    "    global Songs\n",
    "    Songs = Songs.copy()\n",
    "    \n",
    "    \"\"\" Song with highest utility \"\"\"\n",
    "    \n",
    "    utilities = np.zeros(Songs.shape[0])\n",
    "    \n",
    "    for i, (Title, song) in enumerate(Songs.iterrows()):\n",
    "        song_features = get_song_features(song)\n",
    "        utilities[i] = compute_utility(user_features, song_features, epoch - song.last_t, s)\n",
    "        \n",
    "    return Songs[Songs.index == Songs.index[utilities.argmax()]]"
   ]
  },
  {
   "cell_type": "code",
   "execution_count": 10,
   "metadata": {},
   "outputs": [],
   "source": [
    "def all_recommendation(user_features):\n",
    "    \n",
    "    \"\"\" Top 10 songs with using exploration and exploitation \"\"\"\n",
    "    \n",
    "    global Songs\n",
    "    Songs = Songs.copy()\n",
    "    \n",
    "    i=0\n",
    "    \n",
    "    recoSongs = []\n",
    "    \n",
    "    while i < 10:\n",
    "        song = greedy_choice_no_t(user_features, totReco, S)\n",
    "        recoSongs.append(song)\n",
    "        Songs.loc[Songs.index.isin(song.index),'last_t'] = totReco\n",
    "        i += 1\n",
    "        \n",
    "    return recoSongs"
   ]
  },
  {
   "cell_type": "code",
   "execution_count": null,
   "metadata": {},
   "outputs": [],
   "source": []
  }
 ],
 "metadata": {
  "kernelspec": {
   "display_name": "Python 3",
   "language": "python",
   "name": "python3"
  },
  "language_info": {
   "codemirror_mode": {
    "name": "ipython",
    "version": 3
   },
   "file_extension": ".py",
   "mimetype": "text/x-python",
   "name": "python",
   "nbconvert_exporter": "python",
   "pygments_lexer": "ipython3",
   "version": "3.6.9"
  }
 },
 "nbformat": 4,
 "nbformat_minor": 2
}
