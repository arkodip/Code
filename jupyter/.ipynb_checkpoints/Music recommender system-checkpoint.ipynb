{
 "cells": [
  {
   "cell_type": "markdown",
   "metadata": {},
   "source": [
    "https://analyticsindiamag.com/beginners-guide-to-building-a-song-recommender-in-python/"
   ]
  },
  {
   "cell_type": "code",
   "execution_count": 1,
   "metadata": {},
   "outputs": [],
   "source": [
    "import pandas as pd\n",
    "import numpy as np\n",
    "import joblib"
   ]
  },
  {
   "cell_type": "code",
   "execution_count": null,
   "metadata": {},
   "outputs": [],
   "source": []
  },
  {
   "cell_type": "code",
   "execution_count": 2,
   "metadata": {},
   "outputs": [],
   "source": [
    "triplets_file = 'https://static.turi.com/datasets/millionsong/10000.txt'\n",
    "\n",
    "songs_metadata_file = 'https://static.turi.com/datasets/millionsong/song_data.csv'\n",
    "song_df_1 = pd.read_csv(triplets_file, header=None, sep = \"\\t\")"
   ]
  },
  {
   "cell_type": "code",
   "execution_count": 3,
   "metadata": {},
   "outputs": [
    {
     "name": "stdout",
     "output_type": "stream",
     "text": [
      "                                          user_id             song_id  \\\n",
      "0        b80344d063b5ccb3212f76538f3d9e43d87dca9e  SOAKIMP12A8C130995   \n",
      "1        b80344d063b5ccb3212f76538f3d9e43d87dca9e  SOBBMDR12A8C13253B   \n",
      "2        b80344d063b5ccb3212f76538f3d9e43d87dca9e  SOBXHDL12A81C204C0   \n",
      "3        b80344d063b5ccb3212f76538f3d9e43d87dca9e  SOBYHAJ12A6701BF1D   \n",
      "4        b80344d063b5ccb3212f76538f3d9e43d87dca9e  SODACBL12A8C13C273   \n",
      "5        b80344d063b5ccb3212f76538f3d9e43d87dca9e  SODDNQT12A6D4F5F7E   \n",
      "6        b80344d063b5ccb3212f76538f3d9e43d87dca9e  SODXRTY12AB0180F3B   \n",
      "7        b80344d063b5ccb3212f76538f3d9e43d87dca9e  SOFGUAY12AB017B0A8   \n",
      "8        b80344d063b5ccb3212f76538f3d9e43d87dca9e  SOFRQTD12A81C233C0   \n",
      "9        b80344d063b5ccb3212f76538f3d9e43d87dca9e  SOHQWYZ12A6D4FA701   \n",
      "10       b80344d063b5ccb3212f76538f3d9e43d87dca9e  SOIYTOA12A6D4F9A23   \n",
      "11       b80344d063b5ccb3212f76538f3d9e43d87dca9e  SOIZAZL12A6701C53B   \n",
      "12       b80344d063b5ccb3212f76538f3d9e43d87dca9e  SOJNNUA12A8AE48C7A   \n",
      "13       b80344d063b5ccb3212f76538f3d9e43d87dca9e  SOJPFQG12A58A7833A   \n",
      "14       b80344d063b5ccb3212f76538f3d9e43d87dca9e  SOKRIMP12A6D4F5DA3   \n",
      "15       b80344d063b5ccb3212f76538f3d9e43d87dca9e  SOLLGNU12AF72A4D4F   \n",
      "16       b80344d063b5ccb3212f76538f3d9e43d87dca9e  SOMGIYR12AB0187973   \n",
      "17       b80344d063b5ccb3212f76538f3d9e43d87dca9e  SOMLMKI12A81C204BC   \n",
      "18       b80344d063b5ccb3212f76538f3d9e43d87dca9e  SOMSQJY12A8C138539   \n",
      "19       b80344d063b5ccb3212f76538f3d9e43d87dca9e  SONSAEZ12A8C138D7A   \n",
      "20       b80344d063b5ccb3212f76538f3d9e43d87dca9e  SOOKGRB12A8C13CD66   \n",
      "21       b80344d063b5ccb3212f76538f3d9e43d87dca9e  SOPCVQE12AC468AF36   \n",
      "22       b80344d063b5ccb3212f76538f3d9e43d87dca9e  SOQIVUD12AB01821D2   \n",
      "23       b80344d063b5ccb3212f76538f3d9e43d87dca9e  SOQJLDY12AAF3B456D   \n",
      "24       b80344d063b5ccb3212f76538f3d9e43d87dca9e  SOQLCKR12A81C22440   \n",
      "25       b80344d063b5ccb3212f76538f3d9e43d87dca9e  SORPMYJ12AF729EB90   \n",
      "26       b80344d063b5ccb3212f76538f3d9e43d87dca9e  SORQHCG12A58A7EEBA   \n",
      "27       b80344d063b5ccb3212f76538f3d9e43d87dca9e  SORUFVF12AB018230B   \n",
      "28       b80344d063b5ccb3212f76538f3d9e43d87dca9e  SORWLTW12A670208FA   \n",
      "29       b80344d063b5ccb3212f76538f3d9e43d87dca9e  SORZASF12A6D4F8CFA   \n",
      "...                                           ...                 ...   \n",
      "1999970  d8bfd4ec88f0f3773a9e022e3c1a0f1d3b7b6a92  SOFGJCW12AF72A812D   \n",
      "1999971  d8bfd4ec88f0f3773a9e022e3c1a0f1d3b7b6a92  SOFKABN12A8AE476C6   \n",
      "1999972  d8bfd4ec88f0f3773a9e022e3c1a0f1d3b7b6a92  SOFKHBO12A8C1451C5   \n",
      "1999973  d8bfd4ec88f0f3773a9e022e3c1a0f1d3b7b6a92  SOFRCGW12A81C21EA6   \n",
      "1999974  d8bfd4ec88f0f3773a9e022e3c1a0f1d3b7b6a92  SOFROGM12A8C136F19   \n",
      "1999975  d8bfd4ec88f0f3773a9e022e3c1a0f1d3b7b6a92  SOFROOV12A67020901   \n",
      "1999976  d8bfd4ec88f0f3773a9e022e3c1a0f1d3b7b6a92  SOFRQTD12A81C233C0   \n",
      "1999977  d8bfd4ec88f0f3773a9e022e3c1a0f1d3b7b6a92  SOFVZRE12A8C139783   \n",
      "1999978  d8bfd4ec88f0f3773a9e022e3c1a0f1d3b7b6a92  SOGGPKT12A8C1424BE   \n",
      "1999979  d8bfd4ec88f0f3773a9e022e3c1a0f1d3b7b6a92  SOGHGWJ12A8C1451BA   \n",
      "1999980  d8bfd4ec88f0f3773a9e022e3c1a0f1d3b7b6a92  SOGHQMI12A8AE46ADC   \n",
      "1999981  d8bfd4ec88f0f3773a9e022e3c1a0f1d3b7b6a92  SOGIDHJ12AB01800D1   \n",
      "1999982  d8bfd4ec88f0f3773a9e022e3c1a0f1d3b7b6a92  SOGJMJH12A6702154D   \n",
      "1999983  d8bfd4ec88f0f3773a9e022e3c1a0f1d3b7b6a92  SOGOAGM12AB017E99E   \n",
      "1999984  d8bfd4ec88f0f3773a9e022e3c1a0f1d3b7b6a92  SOGPBAW12A6D4F9F22   \n",
      "1999985  d8bfd4ec88f0f3773a9e022e3c1a0f1d3b7b6a92  SOGQJKF12A8C13729E   \n",
      "1999986  d8bfd4ec88f0f3773a9e022e3c1a0f1d3b7b6a92  SOGTQNI12AB0184A5C   \n",
      "1999987  d8bfd4ec88f0f3773a9e022e3c1a0f1d3b7b6a92  SOHBPAS12A58A7EB59   \n",
      "1999988  d8bfd4ec88f0f3773a9e022e3c1a0f1d3b7b6a92  SOHPTUY12A6701F344   \n",
      "1999989  d8bfd4ec88f0f3773a9e022e3c1a0f1d3b7b6a92  SOHQFLV12A6D4F863A   \n",
      "1999990  d8bfd4ec88f0f3773a9e022e3c1a0f1d3b7b6a92  SOHTZUF12A8C13582B   \n",
      "1999991  d8bfd4ec88f0f3773a9e022e3c1a0f1d3b7b6a92  SOHZPIK12A58A7CCAE   \n",
      "1999992  d8bfd4ec88f0f3773a9e022e3c1a0f1d3b7b6a92  SOIDDNJ12AC9071B90   \n",
      "1999993  d8bfd4ec88f0f3773a9e022e3c1a0f1d3b7b6a92  SOINKEZ12A6310E1FC   \n",
      "1999994  d8bfd4ec88f0f3773a9e022e3c1a0f1d3b7b6a92  SOIOESO12A6D4F621D   \n",
      "1999995  d8bfd4ec88f0f3773a9e022e3c1a0f1d3b7b6a92  SOJEYPO12AAA8C6B0E   \n",
      "1999996  d8bfd4ec88f0f3773a9e022e3c1a0f1d3b7b6a92  SOJJYDE12AF729FC16   \n",
      "1999997  d8bfd4ec88f0f3773a9e022e3c1a0f1d3b7b6a92  SOJKQSF12A6D4F5EE9   \n",
      "1999998  d8bfd4ec88f0f3773a9e022e3c1a0f1d3b7b6a92  SOJUXGA12AC961885C   \n",
      "1999999  d8bfd4ec88f0f3773a9e022e3c1a0f1d3b7b6a92  SOJYOLS12A8C13C06F   \n",
      "\n",
      "         listen_count  \n",
      "0                   1  \n",
      "1                   2  \n",
      "2                   1  \n",
      "3                   1  \n",
      "4                   1  \n",
      "5                   5  \n",
      "6                   1  \n",
      "7                   1  \n",
      "8                   1  \n",
      "9                   1  \n",
      "10                  1  \n",
      "11                  5  \n",
      "12                  1  \n",
      "13                  1  \n",
      "14                  5  \n",
      "15                  1  \n",
      "16                  6  \n",
      "17                  1  \n",
      "18                  1  \n",
      "19                  1  \n",
      "20                  1  \n",
      "21                  1  \n",
      "22                  1  \n",
      "23                  1  \n",
      "24                  1  \n",
      "25                  1  \n",
      "26                  1  \n",
      "27                  1  \n",
      "28                  1  \n",
      "29                  2  \n",
      "...               ...  \n",
      "1999970             1  \n",
      "1999971             2  \n",
      "1999972             2  \n",
      "1999973             3  \n",
      "1999974             3  \n",
      "1999975             3  \n",
      "1999976             9  \n",
      "1999977             3  \n",
      "1999978             1  \n",
      "1999979             3  \n",
      "1999980             1  \n",
      "1999981             2  \n",
      "1999982             3  \n",
      "1999983             1  \n",
      "1999984             1  \n",
      "1999985             4  \n",
      "1999986             2  \n",
      "1999987             2  \n",
      "1999988             1  \n",
      "1999989             2  \n",
      "1999990             2  \n",
      "1999991             4  \n",
      "1999992             1  \n",
      "1999993             2  \n",
      "1999994             4  \n",
      "1999995             2  \n",
      "1999996             4  \n",
      "1999997             3  \n",
      "1999998             1  \n",
      "1999999             1  \n",
      "\n",
      "[2000000 rows x 3 columns]\n"
     ]
    }
   ],
   "source": [
    "song_df_1.columns = ['user_id', 'song_id', 'listen_count']\n",
    "\n",
    "song_df_1.columns = ['user_id', 'song_id', 'listen_count']\n",
    "\n",
    "print(song_df_1)"
   ]
  },
  {
   "cell_type": "code",
   "execution_count": 4,
   "metadata": {},
   "outputs": [],
   "source": [
    "song_df_2 =  pd.read_csv(songs_metadata_file)"
   ]
  },
  {
   "cell_type": "code",
   "execution_count": 5,
   "metadata": {},
   "outputs": [],
   "source": [
    "song_df = pd.merge(song_df_1, song_df_2.drop_duplicates(['song_id']), on=\"song_id\", how=\"left\")\n",
    "\n",
    "song_df.head()\n",
    "\n",
    "len(song_df)\n",
    "\n",
    "ong_df = song_df.head(10000)"
   ]
  },
  {
   "cell_type": "code",
   "execution_count": 6,
   "metadata": {
    "scrolled": true
   },
   "outputs": [
    {
     "ename": "NameError",
     "evalue": "name 'song_grouped' is not defined",
     "output_type": "error",
     "traceback": [
      "\u001b[0;31m---------------------------------------------------------------------------\u001b[0m",
      "\u001b[0;31mNameError\u001b[0m                                 Traceback (most recent call last)",
      "\u001b[0;32m<ipython-input-6-ef711f0a8bea>\u001b[0m in \u001b[0;36m<module>\u001b[0;34m\u001b[0m\n\u001b[1;32m      1\u001b[0m \u001b[0msong_df\u001b[0m\u001b[0;34m[\u001b[0m\u001b[0;34m'song'\u001b[0m\u001b[0;34m]\u001b[0m \u001b[0;34m=\u001b[0m \u001b[0msong_df\u001b[0m\u001b[0;34m[\u001b[0m\u001b[0;34m'title'\u001b[0m\u001b[0;34m]\u001b[0m\u001b[0;34m.\u001b[0m\u001b[0mmap\u001b[0m\u001b[0;34m(\u001b[0m\u001b[0mstr\u001b[0m\u001b[0;34m)\u001b[0m \u001b[0;34m+\u001b[0m \u001b[0;34m\" - \"\u001b[0m \u001b[0;34m+\u001b[0m \u001b[0msong_df\u001b[0m\u001b[0;34m[\u001b[0m\u001b[0;34m'artist_name'\u001b[0m\u001b[0;34m]\u001b[0m\u001b[0;34m\u001b[0m\u001b[0;34m\u001b[0m\u001b[0m\n\u001b[0;32m----> 2\u001b[0;31m \u001b[0mgrouped_sum\u001b[0m \u001b[0;34m=\u001b[0m \u001b[0msong_grouped\u001b[0m\u001b[0;34m[\u001b[0m\u001b[0;34m'listen_count'\u001b[0m\u001b[0;34m]\u001b[0m\u001b[0;34m.\u001b[0m\u001b[0msum\u001b[0m\u001b[0;34m(\u001b[0m\u001b[0;34m)\u001b[0m\u001b[0;34m\u001b[0m\u001b[0;34m\u001b[0m\u001b[0m\n\u001b[0m\u001b[1;32m      3\u001b[0m \u001b[0;34m\u001b[0m\u001b[0m\n\u001b[1;32m      4\u001b[0m \u001b[0msong_grouped\u001b[0m\u001b[0;34m[\u001b[0m\u001b[0;34m'percentage'\u001b[0m\u001b[0;34m]\u001b[0m  \u001b[0;34m=\u001b[0m \u001b[0msong_grouped\u001b[0m\u001b[0;34m[\u001b[0m\u001b[0;34m'listen_count'\u001b[0m\u001b[0;34m]\u001b[0m\u001b[0;34m.\u001b[0m\u001b[0mdiv\u001b[0m\u001b[0;34m(\u001b[0m\u001b[0mgrouped_sum\u001b[0m\u001b[0;34m)\u001b[0m\u001b[0;34m*\u001b[0m\u001b[0;36m100\u001b[0m\u001b[0;34m\u001b[0m\u001b[0;34m\u001b[0m\u001b[0m\n\u001b[1;32m      5\u001b[0m \u001b[0;34m\u001b[0m\u001b[0m\n",
      "\u001b[0;31mNameError\u001b[0m: name 'song_grouped' is not defined"
     ]
    }
   ],
   "source": [
    "song_df['song'] = song_df['title'].map(str) + \" - \" + song_df['artist_name']\n",
    "grouped_sum = song_grouped['listen_count'].sum()\n",
    "\n",
    "song_grouped['percentage']  = song_grouped['listen_count'].div(grouped_sum)*100\n",
    "\n",
    "song_grouped.sort_values(['listen_count', 'song'], ascending = [0,1])"
   ]
  },
  {
   "cell_type": "code",
   "execution_count": null,
   "metadata": {},
   "outputs": [],
   "source": []
  }
 ],
 "metadata": {
  "kernelspec": {
   "display_name": "Python 3",
   "language": "python",
   "name": "python3"
  },
  "language_info": {
   "codemirror_mode": {
    "name": "ipython",
    "version": 3
   },
   "file_extension": ".py",
   "mimetype": "text/x-python",
   "name": "python",
   "nbconvert_exporter": "python",
   "pygments_lexer": "ipython3",
   "version": "3.6.8"
  }
 },
 "nbformat": 4,
 "nbformat_minor": 2
}
